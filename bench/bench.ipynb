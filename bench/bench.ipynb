{
 "cells": [
  {
   "cell_type": "code",
   "execution_count": 13,
   "metadata": {},
   "outputs": [],
   "source": [
    "import subprocess\n",
    "import matplotlib.pyplot as plt\n",
    "import numpy as np\n",
    "import json\n",
    "import psutil\n",
    "import time\n",
    "import os\n",
    "\n",
    "app_path = \"../bin/daphne\"\n",
    "#args = \"../test.daph\"\n",
    "args = \"./normalize_matrix.daph n=5000\"\n",
    "args = os.path.abspath(args)\n",
    "update_in_place = False"
   ]
  },
  {
   "cell_type": "code",
   "execution_count": 14,
   "metadata": {},
   "outputs": [],
   "source": [
    "def run_command(update_in_place, args): \n",
    "    #command = \"echo $$ && ../bin/daphne \" + (\"--update-in-place\" if update_in_place else \"\") + \" --timing \" + args\n",
    "    #command = [\"../bin/daphne\", (\" --update-in-place\" if update_in_place else \"\"), \" --timing \", args]\n",
    "\n",
    "    #split args into list\n",
    "    args = args.split(\" \")\n",
    "\n",
    "    if update_in_place:\n",
    "        command = [\"../bin/daphne\", \"--update-in-place\", \"--timing\"] + args\n",
    "    else:\n",
    "        command = [\"../bin/daphne\", \"--timing\"] + args\n",
    "\n",
    "    print(\"Running command: \" + ' '.join(command))    \n",
    "\n",
    "    process = subprocess.Popen(command, stdout=subprocess.PIPE, stderr=subprocess.PIPE)\n",
    "   \n",
    "    process_memory = psutil.Process(process.pid)\n",
    "    current_pid = os.getpid()\n",
    "    print(\"Current PID:\", current_pid)\n",
    "\n",
    "    # Print the process details\n",
    "    print(f\"Subprocess PID: {process.pid}\")\n",
    "    print(f\"Subprocess name: {process_memory.name()}\")\n",
    "    print(f\"Subprocess status: {process_memory.status()}\")\n",
    "\n",
    "    peak_mem = 0\n",
    "\n",
    "    while process.poll() is None:  # Check if the process has finished\n",
    "        mem_info = process_memory.memory_info().rss // 1024  # Memory usage in KB\n",
    "        if mem_info > peak_mem:\n",
    "            peak_mem = mem_info\n",
    "\n",
    "        time.sleep(0.001)\n",
    "\n",
    "    print(f\"Peak memory usage: {peak_mem} KB\")\n",
    "\n",
    "\n",
    "    stdout, stderr = process.communicate()\n",
    "\n",
    "    return command, peak_mem, stderr.decode().splitlines()[-1]\n",
    "\n",
    "def run_benchmarks(update_in_place, args, n):\n",
    "    results = []\n",
    "    for i in range(n):\n",
    "        print(\"\\033[91m\")\n",
    "        print(\"Running benchmark \" + str(i) + \"...\")\n",
    "        print(\"\\033[0m\")\n",
    "        results.append(run_command(update_in_place, args))\n",
    "    print(results)\n",
    "    return results"
   ]
  },
  {
   "cell_type": "code",
   "execution_count": 15,
   "metadata": {},
   "outputs": [
    {
     "name": "stdout",
     "output_type": "stream",
     "text": [
      "\u001b[91m\n",
      "Running benchmark 0...\n",
      "\u001b[0m\n",
      "Running command: ../bin/daphne --timing /home/niklas/daphne/bench/--vec ./normalize_matrix.daph n=5000\n",
      "Current PID: 630075\n",
      "Subprocess PID: 645507\n",
      "Subprocess name: daphne\n",
      "Subprocess status: running\n",
      "Peak memory usage: 35456 KB\n"
     ]
    },
    {
     "ename": "IndexError",
     "evalue": "list index out of range",
     "output_type": "error",
     "traceback": [
      "\u001b[0;31m---------------------------------------------------------------------------\u001b[0m",
      "\u001b[0;31mIndexError\u001b[0m                                Traceback (most recent call last)",
      "Cell \u001b[0;32mIn[15], line 23\u001b[0m\n\u001b[1;32m     19\u001b[0m     plt\u001b[39m.\u001b[39mshow()\n\u001b[1;32m     21\u001b[0m     \u001b[39mprint\u001b[39m(\u001b[39m\"\u001b[39m\u001b[39mAverage peak memory:\u001b[39m\u001b[39m\"\u001b[39m, np\u001b[39m.\u001b[39mmean(peak_mem), \u001b[39m\"\u001b[39m\u001b[39mKB\u001b[39m\u001b[39m\"\u001b[39m)\n\u001b[0;32m---> 23\u001b[0m benching(\u001b[39m100\u001b[39;49m, \u001b[39mFalse\u001b[39;49;00m, args)\n\u001b[1;32m     24\u001b[0m benching(\u001b[39m100\u001b[39m, \u001b[39mTrue\u001b[39;00m, args)\n",
      "Cell \u001b[0;32mIn[15], line 2\u001b[0m, in \u001b[0;36mbenching\u001b[0;34m(n_benchmarks, update_in_place, args)\u001b[0m\n\u001b[1;32m      1\u001b[0m \u001b[39mdef\u001b[39;00m \u001b[39mbenching\u001b[39m(n_benchmarks, update_in_place, args):\n\u001b[0;32m----> 2\u001b[0m     _results \u001b[39m=\u001b[39m run_benchmarks(update_in_place\u001b[39m=\u001b[39;49mupdate_in_place, args\u001b[39m=\u001b[39;49margs, n\u001b[39m=\u001b[39;49mn_benchmarks)\n\u001b[1;32m      4\u001b[0m     title \u001b[39m=\u001b[39m _results[\u001b[39m0\u001b[39m][\u001b[39m0\u001b[39m]\n\u001b[1;32m      5\u001b[0m     peak_mem \u001b[39m=\u001b[39m [result[\u001b[39m1\u001b[39m] \u001b[39mfor\u001b[39;00m result \u001b[39min\u001b[39;00m _results]\n",
      "Cell \u001b[0;32mIn[14], line 50\u001b[0m, in \u001b[0;36mrun_benchmarks\u001b[0;34m(update_in_place, args, n)\u001b[0m\n\u001b[1;32m     48\u001b[0m     \u001b[39mprint\u001b[39m(\u001b[39m\"\u001b[39m\u001b[39mRunning benchmark \u001b[39m\u001b[39m\"\u001b[39m \u001b[39m+\u001b[39m \u001b[39mstr\u001b[39m(i) \u001b[39m+\u001b[39m \u001b[39m\"\u001b[39m\u001b[39m...\u001b[39m\u001b[39m\"\u001b[39m)\n\u001b[1;32m     49\u001b[0m     \u001b[39mprint\u001b[39m(\u001b[39m\"\u001b[39m\u001b[39m\\033\u001b[39;00m\u001b[39m[0m\u001b[39m\u001b[39m\"\u001b[39m)\n\u001b[0;32m---> 50\u001b[0m     results\u001b[39m.\u001b[39mappend(run_command(update_in_place, args))\n\u001b[1;32m     51\u001b[0m \u001b[39mprint\u001b[39m(results)\n\u001b[1;32m     52\u001b[0m \u001b[39mreturn\u001b[39;00m results\n",
      "Cell \u001b[0;32mIn[14], line 42\u001b[0m, in \u001b[0;36mrun_command\u001b[0;34m(update_in_place, args)\u001b[0m\n\u001b[1;32m     35\u001b[0m \u001b[39mprint\u001b[39m(\u001b[39mf\u001b[39m\u001b[39m\"\u001b[39m\u001b[39mPeak memory usage: \u001b[39m\u001b[39m{\u001b[39;00mpeak_mem\u001b[39m}\u001b[39;00m\u001b[39m KB\u001b[39m\u001b[39m\"\u001b[39m)\n\u001b[1;32m     38\u001b[0m stdout, stderr \u001b[39m=\u001b[39m process\u001b[39m.\u001b[39mcommunicate()\n\u001b[0;32m---> 42\u001b[0m \u001b[39mreturn\u001b[39;00m command, peak_mem, stderr\u001b[39m.\u001b[39;49mdecode()\u001b[39m.\u001b[39;49msplitlines()[\u001b[39m-\u001b[39;49m\u001b[39m1\u001b[39;49m]\n",
      "\u001b[0;31mIndexError\u001b[0m: list index out of range"
     ]
    }
   ],
   "source": [
    "def benching(n_benchmarks, update_in_place, args):\n",
    "    _results = run_benchmarks(update_in_place=update_in_place, args=args, n=n_benchmarks)\n",
    "\n",
    "    title = _results[0][0]\n",
    "    peak_mem = [result[1] for result in _results]\n",
    "\n",
    "    results = [json.loads(json_str[2]) for json_str in _results]\n",
    "\n",
    "    values_list = [[data[value_name] for data in results] for value_name in results[0].keys()]\n",
    "    plt.figure(figsize=(10, 6))\n",
    "\n",
    "    plt.boxplot(values_list, labels=results[0].keys())\n",
    "    plt.title(title)\n",
    "    plt.ylabel('Seconds')\n",
    "\n",
    "    # Adjust layout\n",
    "    plt.tight_layout()\n",
    "    plt.xticks(rotation=45)\n",
    "    plt.show()\n",
    "\n",
    "    print(\"Average peak memory:\", np.mean(peak_mem), \"KB\")\n",
    "\n",
    "benching(100, False, args)\n",
    "benching(100, True, args)"
   ]
  },
  {
   "cell_type": "code",
   "execution_count": null,
   "metadata": {},
   "outputs": [],
   "source": [
    "import time\n",
    "\n",
    "pid = 2815730\n",
    "\n",
    "while True:\n",
    "    mem_info = psutil.Process(pid).memory_info()\n",
    "    mem_usage = mem_info.rss / 1024 / 1024\n",
    "\n",
    "    print(f\"Memory usage: {mem_usage:.2f} MB\")\n",
    "\n",
    "    time.sleep(0.1)"
   ]
  }
 ],
 "metadata": {
  "kernelspec": {
   "display_name": "Python 3",
   "language": "python",
   "name": "python3"
  },
  "language_info": {
   "codemirror_mode": {
    "name": "ipython",
    "version": 3
   },
   "file_extension": ".py",
   "mimetype": "text/x-python",
   "name": "python",
   "nbconvert_exporter": "python",
   "pygments_lexer": "ipython3",
   "version": "3.8.10"
  },
  "orig_nbformat": 4
 },
 "nbformat": 4,
 "nbformat_minor": 2
}
